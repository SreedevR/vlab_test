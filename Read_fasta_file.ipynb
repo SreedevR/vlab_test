{
 "cells": [
  {
   "cell_type": "markdown",
   "metadata": {},
   "source": [
    "# Reading sequence data into R"
   ]
  },
  {
   "cell_type": "markdown",
   "metadata": {},
   "source": [
    "Using the SeqinR package in R, you can easily read a DNA sequence from a FASTA file into R. For example, we\n",
    "described above how to retrieve the DEN-1 Dengue virus genome sequence from the NCBI database, or from R\n",
    "using the getncbiseq() function, and save it in a FASTA format file (eg. “den1.fasta”).\n",
    "You can read this FASTA format file into R using the read.fasta() function from the SeqinR R package:"
   ]
  },
  {
   "cell_type": "code",
   "execution_count": null,
   "metadata": {},
   "outputs": [],
   "source": []
    "library(\"seqinr\")"
    "dengue <- read.fasta(file = \"sequence.fasta\")"
   ]
  }
 ],
 "metadata": {
  "kernelspec": {
   "display_name": "R",
   "language": "R",
   "name": "ir"
  },
  "language_info": {
   "codemirror_mode": "r",
   "file_extension": ".r",
   "mimetype": "text/x-r-source",
   "name": "R",
   "pygments_lexer": "r",
   "version": "3.4.4"
  }
 },
 "nbformat": 4,
 "nbformat_minor": 2
}
