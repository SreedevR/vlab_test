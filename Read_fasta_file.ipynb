{
 "cells": [
  {
   "cell_type": "markdown",
   "metadata": {},
   "source": [
    "# Reading sequence data into R"
   ]
  },
  {
   "cell_type": "markdown",
   "metadata": {},
   "source": [
    "Using the SeqinR package in R, you can easily read a DNA sequence from a FASTA file into R. For example, we\n",
    "described above how to retrieve the DEN-1 Dengue virus genome sequence from the NCBI database, or from R\n",
    "using the getncbiseq() function, and save it in a FASTA format file (eg. “den1.fasta”).\n",
    "You can read this FASTA format file into R using the read.fasta() function from the SeqinR R package:"
   ]
  },
  {
   "cell_type": "code",
   "execution_count": 1,
   "metadata": {},
   "outputs": [],
   "source": [
    "library(\"seqinr\")\n",
    "dengue <- read.fasta(file = \"sequence.fasta\")"
   ]
  },
  {
   "cell_type": "code",
   "execution_count": 2,
   "metadata": {},
   "outputs": [
    {
     "data": {
      "text/plain": [
       "$A06852.1\n",
       "  [1] \"a\" \"t\" \"g\" \"c\" \"c\" \"g\" \"c\" \"g\" \"c\" \"c\" \"t\" \"g\" \"t\" \"t\" \"c\" \"t\" \"c\" \"c\"\n",
       " [19] \"t\" \"a\" \"c\" \"c\" \"t\" \"c\" \"c\" \"t\" \"a\" \"g\" \"g\" \"t\" \"g\" \"t\" \"c\" \"t\" \"g\" \"g\"\n",
       " [37] \"c\" \"t\" \"g\" \"c\" \"t\" \"c\" \"c\" \"t\" \"g\" \"a\" \"g\" \"c\" \"c\" \"a\" \"a\" \"c\" \"t\" \"t\"\n",
       " [55] \"c\" \"c\" \"c\" \"a\" \"g\" \"a\" \"g\" \"a\" \"a\" \"a\" \"t\" \"c\" \"c\" \"c\" \"a\" \"g\" \"g\" \"c\"\n",
       " [73] \"c\" \"a\" \"g\" \"a\" \"g\" \"t\" \"a\" \"c\" \"g\" \"a\" \"a\" \"c\" \"g\" \"a\" \"t\" \"t\" \"t\" \"t\"\n",
       " [91] \"a\" \"t\" \"t\" \"a\" \"a\" \"g\" \"g\" \"c\" \"a\" \"t\" \"g\" \"c\" \"g\" \"g\" \"c\" \"c\" \"g\" \"a\"\n",
       "[109] \"g\" \"a\" \"a\" \"t\" \"t\" \"a\" \"g\" \"t\" \"c\" \"c\" \"g\" \"t\" \"c\" \"t\" \"g\" \"t\" \"g\" \"g\"\n",
       "[127] \"g\" \"t\" \"g\" \"g\" \"a\" \"g\" \"a\" \"t\" \"c\" \"t\" \"g\" \"t\" \"g\" \"g\" \"c\" \"t\" \"c\" \"c\"\n",
       "[145] \"g\" \"t\" \"c\" \"t\" \"c\" \"c\" \"t\" \"g\" \"g\" \"g\" \"g\" \"a\" \"a\" \"g\" \"a\" \"a\" \"c\" \"t\"\n",
       "[163] \"g\" \"c\" \"t\" \"c\" \"t\" \"c\" \"a\" \"g\" \"c\" \"c\" \"t\" \"g\" \"g\" \"a\" \"a\" \"g\" \"a\" \"g\"\n",
       "[181] \"c\" \"c\" \"t\" \"c\" \"a\" \"g\" \"c\" \"t\" \"g\" \"g\" \"a\" \"a\" \"a\" \"c\" \"t\" \"g\" \"g\" \"a\"\n",
       "[199] \"c\" \"c\" \"c\" \"c\" \"c\" \"g\" \"g\" \"c\" \"a\" \"g\" \"a\" \"a\" \"a\" \"c\" \"c\" \"a\" \"t\" \"g\"\n",
       "[217] \"c\" \"c\" \"a\" \"t\" \"c\" \"c\" \"t\" \"c\" \"c\" \"a\" \"t\" \"c\" \"a\" \"c\" \"c\" \"a\" \"a\" \"a\"\n",
       "[235] \"g\" \"a\" \"t\" \"g\" \"c\" \"a\" \"g\" \"a\" \"a\" \"a\" \"t\" \"c\" \"t\" \"t\" \"a\" \"a\" \"a\" \"g\"\n",
       "[253] \"a\" \"t\" \"g\" \"a\" \"t\" \"g\" \"t\" \"t\" \"g\" \"g\" \"a\" \"a\" \"t\" \"t\" \"t\" \"g\" \"t\" \"t\"\n",
       "[271] \"c\" \"c\" \"t\" \"a\" \"a\" \"t\" \"t\" \"t\" \"g\" \"c\" \"c\" \"a\" \"c\" \"a\" \"g\" \"g\" \"a\" \"g\"\n",
       "[289] \"c\" \"t\" \"g\" \"a\" \"a\" \"g\" \"g\" \"c\" \"a\" \"a\" \"c\" \"a\" \"t\" \"t\" \"g\" \"t\" \"c\" \"t\"\n",
       "[307] \"g\" \"a\" \"g\" \"a\" \"g\" \"g\" \"c\" \"a\" \"a\" \"c\" \"c\" \"a\" \"t\" \"c\" \"a\" \"c\" \"t\" \"g\"\n",
       "[325] \"a\" \"g\" \"a\" \"g\" \"a\" \"g\" \"c\" \"t\" \"a\" \"c\" \"a\" \"a\" \"c\" \"a\" \"a\" \"t\" \"c\" \"t\"\n",
       "[343] \"g\" \"c\" \"a\" \"t\" \"c\" \"a\" \"a\" \"a\" \"g\" \"g\" \"a\" \"t\" \"t\" \"c\" \"g\" \"a\" \"a\" \"t\"\n",
       "[361] \"c\" \"t\" \"t\" \"a\" \"a\" \"c\" \"t\" \"t\" \"t\" \"g\" \"a\" \"a\" \"g\" \"a\" \"a\" \"t\" \"t\" \"t\"\n",
       "[379] \"a\" \"a\" \"g\" \"a\" \"a\" \"a\" \"a\" \"t\" \"t\" \"a\" \"t\" \"t\" \"c\" \"t\" \"t\" \"a\" \"a\" \"c\"\n",
       "[397] \"a\" \"g\" \"a\" \"c\" \"a\" \"a\" \"a\" \"a\" \"t\" \"g\" \"a\" \"a\" \"g\" \"c\" \"a\" \"g\" \"a\" \"a\"\n",
       "[415] \"g\" \"a\" \"c\" \"a\" \"a\" \"a\" \"a\" \"g\" \"t\" \"c\" \"t\" \"t\" \"t\" \"t\" \"a\" \"g\" \"a\" \"a\"\n",
       "[433] \"t\" \"t\" \"a\" \"a\" \"a\" \"a\" \"a\" \"a\" \"c\" \"t\" \"t\" \"a\" \"g\" \"g\" \"t\" \"t\" \"t\" \"a\"\n",
       "[451] \"g\" \"a\" \"t\" \"a\" \"a\" \"a\" \"c\" \"a\" \"t\" \"t\" \"c\" \"c\" \"a\" \"g\" \"a\" \"a\" \"a\" \"a\"\n",
       "[469] \"a\" \"a\" \"g\" \"a\" \"g\" \"a\" \"c\" \"t\" \"g\" \"t\" \"t\" \"c\" \"c\" \"g\" \"t\" \"a\" \"t\" \"g\"\n",
       "[487] \"a\" \"c\" \"a\" \"c\" \"t\" \"g\" \"a\" \"g\" \"c\" \"g\" \"a\" \"g\" \"a\" \"a\" \"a\" \"t\" \"g\" \"t\"\n",
       "[505] \"t\" \"g\" \"t\" \"c\" \"a\" \"a\" \"g\" \"t\" \"a\" \"g\" \"g\" \"t\" \"t\" \"g\" \"t\" \"a\" \"t\" \"c\"\n",
       "[523] \"a\" \"g\" \"a\" \"a\" \"a\" \"a\" \"g\" \"a\" \"t\" \"a\" \"t\" \"t\" \"g\" \"c\" \"t\" \"a\" \"g\" \"a\"\n",
       "[541] \"t\" \"t\" \"a\" \"t\" \"g\" \"c\" \"t\" \"g\" \"a\"\n",
       "attr(,\"name\")\n",
       "[1] \"A06852.1\"\n",
       "attr(,\"Annot\")\n",
       "[1] \">A06852.1 S.scrofa mRNA for relaxin\"\n",
       "attr(,\"class\")\n",
       "[1] \"SeqFastadna\"\n"
      ]
     },
     "metadata": {},
     "output_type": "display_data"
    }
   ],
   "source": [
    "dengue"
   ]
  },
  {
   "cell_type": "code",
   "execution_count": null,
   "metadata": {},
   "outputs": [],
   "source": []
  }
 ],
 "metadata": {
  "kernelspec": {
   "display_name": "R",
   "language": "R",
   "name": "ir"
  },
  "language_info": {
   "codemirror_mode": "r",
   "file_extension": ".r",
   "mimetype": "text/x-r-source",
   "name": "R",
   "pygments_lexer": "r",
   "version": "3.4.4"
  }
 },
 "nbformat": 4,
 "nbformat_minor": 2
}
